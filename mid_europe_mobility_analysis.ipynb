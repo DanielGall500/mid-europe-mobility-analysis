{
 "cells": [
  {
   "cell_type": "markdown",
   "metadata": {},
   "source": [
    "# A Mobility Analysis Of Austria, Belgium & Germany"
   ]
  },
  {
   "cell_type": "markdown",
   "metadata": {},
   "source": [
    "## Good Practices In Constructing Time Series\n",
    "\n",
    "In any craft there are basic principles with which one must learn in order to lay the foundation of good work. Time series visualisation is no different, relying on many important decisions by the data scientist before coming to fruition.\n",
    "\n",
    "We can trace a history of these graphs back to Scottish economist William Playfair. Playfair combined his love of art and data to create the graph we now know as a time series. His first publication in 1786 looks incredibly modern, plotting the cost of wheat against the cost of labour in England. His graph disproved a hypthesis that wages were driving the price of wheat up. Playfair showed that they were actually rising much slower than the price of wheat with this very clever display, rising a new dawn for data visualisations of time periods.\n",
    "\n",
    "![Playfair's First Time Series](res/playfair_time_series.jpg)"
   ]
  },
  {
   "cell_type": "markdown",
   "metadata": {},
   "source": [
    "When we introduce time into a graph, it gives rise to many distinct components. \n",
    "Common components of a time series include:\n",
    "* **Trend** - The general tendency to increase or decrease over time.\n",
    "\n",
    "* **Seasonality** - Peaks / troughs that occur at regular intervals. This can be daily, weekly, monthly or even yearly cycles.\n",
    "\n",
    "* **Noise** - Random fluctuations in data which are left when all the components have been removed.\n",
    "\n",
    "In constructing our time series, we will pay respect to each of these components. Seasonality can be tested using statistical tests, while trends are more random. Noise occurs in any real-world data set, and can be dealt with through methods such as smoothing and resampling. We will be constructing time series both with smoothing/resampling and without, in order to gain a complete picture of the data. The aim is to show what the data means, rather than merely what it looks like plotted.\n",
    "\n",
    "I have decided to use four different types of visualisations to display each attribute. I believe that these four visualisations will give us a strong sense of the magnitude of change in our data and intuitively represent these changes for analysis.\n",
    "\n",
    "### Universal Line Plot\n",
    "This plot will contain our original data and represents a starting point for our understanding. This is the root of the visualisations to come, as it will give us the clearest picture of the trends, seasonality and noise within our dataset. \n",
    "\n",
    "Additionally, annotations will be added to this plot in order to mark key moments related to the attribute. These may give us insight into particular peaks or troughs in relation to that specific attribute.\n",
    "\n",
    "### Density Plot\n",
    "My aim with this density plot is to give us much more of a feel into the major changes that occurred during the time period. A moving average smoothing technique will be applied in order to remove the effect of outliers on the data and filter out noise. \n",
    "\n",
    "### Histogram\n",
    "This graph will apply differencing, where the data represents the change from one day to the next. We can set the window of change so that it will tell us the difference between as large a gap as we would like. Resampling will be applied to our histogram to give it a \"more\" discrete visualisation and reduce the amount of bins.\n",
    "\n",
    "### Calendar Plot\n",
    "The previous graphs have largely focused on extracting insight through maniupulating the data in some form. These manipulations can help us understand certain aspects of the data much more clearly. However, my final graph is focused purely on the viewers intuitive understanding of the data. Therefore, we will use a calendar plot which will be colour coded in order to show us the highs and lows of the data throughout the year. Changing our time axis like this can bring a much better understanding of the data for viewers and completes our overall picture.\n",
    "\n",
    "## The Four Horsemen\n",
    "I believe that these four visualisations will give the viewer a complete understanding of the effect of a pandemic on attributes such as transport, retail and leisure mobility. They aim to balance both a clear understanding of it's properties and an intuitive method of visualisation. "
   ]
  },
  {
   "cell_type": "code",
   "execution_count": null,
   "metadata": {},
   "outputs": [],
   "source": []
  }
 ],
 "metadata": {
  "kernelspec": {
   "display_name": "Python 3",
   "language": "python",
   "name": "python3"
  },
  "language_info": {
   "codemirror_mode": {
    "name": "ipython",
    "version": 3
   },
   "file_extension": ".py",
   "mimetype": "text/x-python",
   "name": "python",
   "nbconvert_exporter": "python",
   "pygments_lexer": "ipython3",
   "version": "3.9.0"
  }
 },
 "nbformat": 4,
 "nbformat_minor": 4
}
